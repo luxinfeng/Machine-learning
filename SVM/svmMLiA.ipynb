{
 "cells": [
  {
   "cell_type": "code",
   "execution_count": 2,
   "metadata": {},
   "outputs": [],
   "source": [
    "def loadDataSet(fileName):\n",
    "    dataMat = []; labelMat = []\n",
    "    fr = open(fileName)\n",
    "    for line in fr.readlines():\n",
    "        lineArr = line.strip().split('\\t')\n",
    "        dataMat.append([float(lineArr[0]), float(lineArr[1])])\n",
    "        labelMat.append(float(lineArr[2]))\n",
    "    return dataMat,labelMat\n",
    "\n",
    "def selectJrand(i,m):\n",
    "    j=i #we want to select any J not equal to i\n",
    "    while (j==i):\n",
    "        j = int(random.uniform(0,m))\n",
    "    return j\n",
    "\n",
    "def clipAlpha(aj,H,L):\n",
    "    if aj > H: \n",
    "        aj = H\n",
    "    if L > aj:\n",
    "        aj = L\n",
    "    return aj"
   ]
  },
  {
   "cell_type": "code",
   "execution_count": 2,
   "metadata": {},
   "outputs": [
    {
     "ename": "SyntaxError",
     "evalue": "invalid character in identifier (<ipython-input-2-43a00c671d9f>, line 17)",
     "output_type": "error",
     "traceback": [
      "\u001b[1;36m  File \u001b[1;32m\"<ipython-input-2-43a00c671d9f>\"\u001b[1;36m, line \u001b[1;32m17\u001b[0m\n\u001b[1;33m    if (labelMat[i]!=labelMat[j])：\u001b[0m\n\u001b[1;37m                                 ^\u001b[0m\n\u001b[1;31mSyntaxError\u001b[0m\u001b[1;31m:\u001b[0m invalid character in identifier\n"
     ]
    }
   ],
   "source": [
    "def smoSimple(dataMatIn,classLabels,C,toler,maxIter):   #dataMatIn表示输入数据，classlabels表示输入标签，C表示惩罚系数，toler表示容错率，maxIter表示最大迭代次数\n",
    "    dataMatrix = mat(dataMatIn);labelMat =mat(classLabels).transpose()   #输入数据矩阵化\n",
    "    b=0;m,n = shape(dataMatrix)\n",
    "    alphas = mat(zeros((m,1)))\n",
    "    iter = 0\n",
    "    while(iter < maxIter ):\n",
    "        alphaPairsChanged = 0\n",
    "        for i in range(m):             #从1开始选alpha\n",
    "            fXi = float(multiply(alphas,labelMat).T*(dataMatrix*dataMatrix[i,:].T))+b        #预测值\n",
    "            Ei = fXi - float(labelMat[i])                                                    #预测值与实际值的差\n",
    "            if ((labelMat[i]*Ei< -toler) and (alphas[i] < c)) or ((labelMat[i]*Ei> toler) and (alphas[i] > 0)):  #\n",
    "                j = selectJrand(i,m)   #选一个不等于i的\n",
    "                fXj = float(multiply(alphas,labelMat).T*(dataMatrix*dataMatrix[j,:].T))+b\n",
    "                Ej = fXj - float(labelMat[j])         #求E2\n",
    "                alphaIold = alphas[i].copy()\n",
    "                alphaJold = alphas[j].copy()\n",
    "                if (labelMat[i]!=labelMat[j])：      #yi与yj同号还是异号，下面是取值范围\n",
    "                    L = max(0,alphas[j] - alphas[i])\n",
    "                    H = min(C,C+alphas[j] -alphas[i])\n",
    "                else:\n",
    "                    L = max(0, alphas[j] + alphas[i] -C)\n",
    "                    H = min(C, alphas[j] + alphas[i])\n",
    "                if L==H:\n",
    "                    print(\"L==H\")\n",
    "                    continue\n",
    "                eta = 2.0*dataMatrix[i,:]*dataMatrix[j,:].T - dataMatrix[i,:]*dataMatrix[i,:].T - dataMatrix[j,:]*dataMatrix[j,:].T     #k11 k22 k12\n",
    "                if eta >= 0:\n",
    "                    print(\"eta >=0\")\n",
    "                    continue\n",
    "                alphas[j] -= labelMat[j]*(Ei - Ej)/eta         #逐个用推导来的公式计算\n",
    "                alphas[j] = clipAlpha(alphas[j],H,L)           #界限判断\n",
    "                if (abs(alphas[j] - alphaJold) < 0.00001):\n",
    "                    print(\"j not moving enough\")\n",
    "                    continue\n",
    "                alphas[i] += labelMat[j]*labelMat[i]*(alphaJold - alphas[j])        #求alphai\n",
    "                bl = b - Ei - labelMat[i]*(alphas[i] - alphaIold)*dataMatrix[i,:]*dataMatrix[i,:].T-labelMat[j]*(alphas[j] - alphaJold)*dataMatrix[i,:]*dataMatrix[j,:].T    #根据KKT条件求b,两种情况\n",
    "                b2 = b - Ej - labelMat[i]*(alphas[i] - alphaIold)*dataMatrix[i,:]*dataMatrix[j,:].T-labelMat[j]*(alphas[j] - alphaJold)*dataMatrix[j,:]*dataMatrix[j,:].T\n",
    "                if (0<alphas[i]) and (C > alphas[i]):\n",
    "                    b = b1\n",
    "                elif(0<alphas[j]) and (C > alphas[j]):\n",
    "                    b = b2\n",
    "                else:\n",
    "                    b = (b1+b2)/2.0\n",
    "                alphaPairsChanged +=1\n",
    "                print(\"iter : %d i:%d , pairs changed %d\" % (iter,i,alphaPairsChanged))\n",
    "        if(alphaPairsChanged == 0):\n",
    "            iter +=1\n",
    "        else:\n",
    "            iter = 0\n",
    "        print(\"iteration number:%d\" % iter)\n",
    "    return b, alphas\n",
    "          "
   ]
  },
  {
   "cell_type": "code",
   "execution_count": null,
   "metadata": {},
   "outputs": [],
   "source": []
  }
 ],
 "metadata": {
  "kernelspec": {
   "display_name": "Python 3",
   "language": "python",
   "name": "python3"
  },
  "language_info": {
   "codemirror_mode": {
    "name": "ipython",
    "version": 3
   },
   "file_extension": ".py",
   "mimetype": "text/x-python",
   "name": "python",
   "nbconvert_exporter": "python",
   "pygments_lexer": "ipython3",
   "version": "3.5.6"
  }
 },
 "nbformat": 4,
 "nbformat_minor": 2
}
