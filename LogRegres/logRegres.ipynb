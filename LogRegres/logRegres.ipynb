{
 "cells": [
  {
   "cell_type": "code",
   "execution_count": 1,
   "metadata": {},
   "outputs": [],
   "source": [
    "import numpy as np\n",
    "def sigmoid(x):\n",
    "    return 1.0/(1+np.exp(-x))\n",
    "def stocGradAscent1(dataMatrix,classLabels,numIter = 150):\n",
    "    m, n = np.shape(dataMatrix)\n",
    "    weights = np.ones(n)\n",
    "    for j in range(numIter):\n",
    "        dataIndex = list(range(m))\n",
    "        for i in range(m):\n",
    "            alpha = 4/(1.0+j+i)+0.01\n",
    "            randIndex = int(np.random.uniform(0,len(dataIndex)))\n",
    "            h = sigmoid(sum(dataMatrix[randIndex]*weights))\n",
    "            error = classLabels[randIndex] - h           \n",
    "            weights = weights +alpha*error*dataMatrix[randIndex]   #梯度上升公式\n",
    "            del(dataIndex[randIndex])\n",
    "    return weights"
   ]
  },
  {
   "cell_type": "code",
   "execution_count": 7,
   "metadata": {},
   "outputs": [],
   "source": [
    "\n",
    "def classifyVector(inX,weights):\n",
    "    prob = sigmoid(sum(inX*weights))         #分类0或1\n",
    "    if prob >0.5:\n",
    "        return 1.0\n",
    "    else:\n",
    "        return 0.0\n",
    "def colicTest():\n",
    "    frTrain = open('horseColicTraining.txt')\n",
    "    frTest = open('horseColicTest.txt')\n",
    "    trainingSet = [];trainingLabels = []\n",
    "    for line in frTrain.readlines():\n",
    "        currLine = line.strip().split('\\t')\n",
    "        lineArr = []\n",
    "        for i in range(21):\n",
    "            lineArr.append(float(currLine[i]))\n",
    "        trainingSet.append(lineArr)                    #提取训练集中的样本\n",
    "        trainingLabels.append(float(currLine[21]))     #提取训练集中的标签\n",
    "    trainWeights = stocGradAscent1(np.array(trainingSet),trainingLabels,1000)           #进行训练\n",
    "    errorCount = 0;numTestVec = 0.0\n",
    "    for line in frTest.readlines():\n",
    "        numTestVec +=1.0\n",
    "        currLine = line.strip().split('\\t')\n",
    "        lineArr = []\n",
    "        for i in range(21):\n",
    "            lineArr.append(float(currLine[i]))\n",
    "        if int(classifyVector(np.array(lineArr),trainWeights))!= int(currLine[21]):       #测试\n",
    "            errorCount +=1\n",
    "    errorRate = (float(errorCount)/numTestVec)                                          #计算错误率\n",
    "    print(\"thr error rate of this test is: %f\" % (errorRate))\n",
    "    return errorRate\n",
    "def multiTest():\n",
    "    numTests = 10;errorSum =0.0\n",
    "    for k in range(numTests):\n",
    "        errorSum += colicTest()                                                        #总错误率\n",
    "    print(\"after %d iterations the average error rate is: %f\" % (numTests,errorSum/float(numTests)))"
   ]
  },
  {
   "cell_type": "code",
   "execution_count": 8,
   "metadata": {},
   "outputs": [
    {
     "name": "stdout",
     "output_type": "stream",
     "text": [
      "thr error rate of this test is: 0.358209\n",
      "thr error rate of this test is: 0.343284\n",
      "thr error rate of this test is: 0.298507\n",
      "thr error rate of this test is: 0.253731\n",
      "thr error rate of this test is: 0.328358\n",
      "thr error rate of this test is: 0.388060\n",
      "thr error rate of this test is: 0.268657\n",
      "thr error rate of this test is: 0.298507\n",
      "thr error rate of this test is: 0.313433\n",
      "thr error rate of this test is: 0.432836\n",
      "after 10 iterations the average error rate is: 0.328358\n"
     ]
    }
   ],
   "source": [
    "multiTest()"
   ]
  },
  {
   "cell_type": "code",
   "execution_count": null,
   "metadata": {},
   "outputs": [],
   "source": []
  },
  {
   "cell_type": "code",
   "execution_count": null,
   "metadata": {},
   "outputs": [],
   "source": []
  },
  {
   "cell_type": "code",
   "execution_count": null,
   "metadata": {},
   "outputs": [],
   "source": []
  },
  {
   "cell_type": "code",
   "execution_count": null,
   "metadata": {},
   "outputs": [],
   "source": []
  }
 ],
 "metadata": {
  "kernelspec": {
   "display_name": "Python 3",
   "language": "python",
   "name": "python3"
  },
  "language_info": {
   "codemirror_mode": {
    "name": "ipython",
    "version": 3
   },
   "file_extension": ".py",
   "mimetype": "text/x-python",
   "name": "python",
   "nbconvert_exporter": "python",
   "pygments_lexer": "ipython3",
   "version": "3.5.6"
  }
 },
 "nbformat": 4,
 "nbformat_minor": 2
}
